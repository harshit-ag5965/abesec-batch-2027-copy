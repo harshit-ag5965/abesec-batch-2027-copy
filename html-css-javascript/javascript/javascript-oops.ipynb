{
 "cells": [
  {
   "cell_type": "markdown",
   "id": "ebbff3db",
   "metadata": {},
   "source": [
    "## Exercise: Counting Population\n",
    "\n",
    "### Task\n",
    "A demographist wants to find the total population within a demographic. This demographic is in a region with a temperature less than or equal to 10°C. However, with a limited programming background, the demographist has asked for your help!\n",
    "\n",
    "Your task is to find the sum of the population in a two-dimensional array of objects which reside in a region of temperature less than or equal to 10°C. Each object consists of the region information.\n",
    "\n",
    "### Problem statement\n",
    "You are given one variable named `raw_array`, assigned to a two-dimensional array consisting of objects. Each object has the following properties:\n",
    "\n",
    "`name`: This is assigned to a string with the value of the city’s name in which the population resides. Example, `{name: \"Sydney\"}`\n",
    "\n",
    "`population`: This is assigned to a number with the value of the quantity of the residing population. Example, `{population: 1250000}`\n",
    "\n",
    "`temp`: This is assigned to a number with the value of the temperature (in °C) of the region. Example, `{temp: 3.0}`\n",
    "\n",
    "`currency`: This is assigned to a string with the value of the currency code of the city in which the population resides. Example, `{currency: \"AUD\"}`\n",
    "\n",
    "```\n",
    "var obj = {\n",
    "    name: string,\n",
    "    population: number,\n",
    "    temp: number,\n",
    "    currency: string\n",
    "}\n",
    "```"
   ]
  },
  {
   "cell_type": "code",
   "execution_count": 1,
   "id": "2a841157",
   "metadata": {},
   "outputs": [],
   "source": [
    "var regionInformation = [\n",
    "    [\n",
    "        {name: \"New York\", population: 10000, temp: 6.0, currency: 'USD'},\n",
    "        {name: \"Boston\", population: 10000, temp: 2.0, currency: 'USD'},\n",
    "        {name: \"Los Angeles\", population: 10000, temp: 13.0, currency: 'USD'},\n",
    "    ],\n",
    "    [\n",
    "        {name: \"San Francisco\", population: 10000, temp: 12.0, currency: 'USD'},\n",
    "        null,\n",
    "        {name: \"Manhattan\", population: 10000, temp: 8.0, currency: 'USD'},\n",
    "    ],\n",
    "    [\n",
    "        null,\n",
    "        {name: \"Seattle\", population: 10000, temp: 4.0, currency: 'USD'},\n",
    "        null\n",
    "    ]\n",
    "]"
   ]
  },
  {
   "cell_type": "code",
   "execution_count": 2,
   "id": "be9f38e5",
   "metadata": {},
   "outputs": [
    {
     "name": "stdout",
     "output_type": "stream",
     "text": [
      "40000\n"
     ]
    }
   ],
   "source": [
    "let totalPopulation = 0;\n",
    "for(let i = 0; i < regionInformation.length; i++) {\n",
    "    let region = regionInformation[i];\n",
    "    for(let j = 0; j < region.length; j++) {\n",
    "        let city = region[j];\n",
    "        if(city !== null && city.temp <= 10.0) {\n",
    "            totalPopulation += city.population;\n",
    "        }\n",
    "    }\n",
    "}\n",
    "\n",
    "console.log(totalPopulation);"
   ]
  },
  {
   "cell_type": "code",
   "execution_count": 4,
   "id": "900f085c",
   "metadata": {},
   "outputs": [
    {
     "name": "stdout",
     "output_type": "stream",
     "text": [
      "40000\n"
     ]
    }
   ],
   "source": [
    "let totalPopulation = 0;\n",
    "regionInformation.forEach(region => {\n",
    "    region.filter(city => city !== null && city.temp <= 10.0).forEach(city => totalPopulation += city.population);\n",
    "});\n",
    "\n",
    "console.log(totalPopulation);"
   ]
  },
  {
   "cell_type": "markdown",
   "id": "e872f422",
   "metadata": {},
   "source": [
    "## Object Oriented Programming in Javascript"
   ]
  },
  {
   "cell_type": "code",
   "execution_count": null,
   "id": "440df164",
   "metadata": {},
   "outputs": [],
   "source": [
    "class Node {\n",
    "    constructor(data) {\n",
    "        this.data = data;\n",
    "        this.next = null;\n",
    "    }\n",
    "}\n",
    "\n",
    "const node = new Node(1);\n",
    "\n",
    "// class Node {\n",
    "//     int data;\n",
    "//     Node next;\n",
    "//     public Node (int data) {\n",
    "//         this.data = data;\n",
    "//         this.next = null;\n",
    "//     }\n",
    "// }\n",
    "\n",
    "// Node node = new Node(1);"
   ]
  },
  {
   "cell_type": "code",
   "execution_count": 23,
   "id": "dafad961",
   "metadata": {},
   "outputs": [
    {
     "name": "stdout",
     "output_type": "stream",
     "text": [
      "true\n",
      "Employee {\n",
      "  name: \"John Doe\",\n",
      "  salary: 100000,\n",
      "  age: 32,\n",
      "  isManager: true,\n",
      "  dateOfJoining: \"2020-01-01\"\n",
      "}\n"
     ]
    }
   ],
   "source": [
    "var refObj;\n",
    "class Employee {\n",
    "    constructor(name, salary, age, isManager, dateOfJoining) {\n",
    "        refObj = this;\n",
    "        this.name = name;\n",
    "        this.salary = salary;\n",
    "        this.age = age;\n",
    "        this.isManager = isManager;\n",
    "        this.dateOfJoining = dateOfJoining;\n",
    "    }\n",
    "}\n",
    "\n",
    "var employee = new Employee(\"John Doe\", 100000, 30, true, \"2020-01-01\");\n",
    "console.log(employee == refObj);\n",
    "\n",
    "var employee2 = new Employee(\"John Doe\", 100000, 30, true, \"2020-01-01\");\n",
    "employee2.age = 32\n",
    "console.log(employee2)"
   ]
  },
  {
   "cell_type": "markdown",
   "id": "e6606410",
   "metadata": {},
   "source": [
    "## Getter and Setter"
   ]
  },
  {
   "cell_type": "code",
   "execution_count": 29,
   "id": "04dfbdd0",
   "metadata": {},
   "outputs": [
    {
     "name": "stdout",
     "output_type": "stream",
     "text": [
      "110000\n"
     ]
    }
   ],
   "source": [
    "class Employee {\n",
    "    constructor(name, salary, age, isManager, dateOfJoining) {\n",
    "        this.name = name;\n",
    "        this.salary = salary;\n",
    "        this.age = age;\n",
    "        this.isManager = isManager;\n",
    "        this.dateOfJoining = dateOfJoining;\n",
    "    }\n",
    "\n",
    "    setName(name) {\n",
    "        this.name = name;\n",
    "    }\n",
    "\n",
    "    getName() {\n",
    "        return this.name;\n",
    "    }\n",
    "\n",
    "    setSalary(salary) {\n",
    "        this.salary = salary;\n",
    "    }\n",
    "\n",
    "    getSalary() {\n",
    "        return this.salary;\n",
    "    }\n",
    "\n",
    "    static calculateNewSalaryAfterBonus(employeeSalary, bonusPercentage) {\n",
    "        return employeeSalary + (employeeSalary * bonusPercentage/100)\n",
    "    }\n",
    "\n",
    "}\n",
    "\n",
    "var employee = new Employee(\"John Doe\", 100000, 30, true, \"2020-01-01\");\n",
    "var employee2 = new Employee(\"John Dae\", 100000, 30, true, \"2020-01-01\");\n",
    "// console.log(employee);\n",
    "employee.setName(\"John Dae\")\n",
    "// console.log(employee);\n",
    "\n",
    "var newSalary = Employee.calculateNewSalaryAfterBonus(employee.getSalary(), 10)\n",
    "employee.setSalary(newSalary);\n",
    "console.log(employee.getSalary())"
   ]
  },
  {
   "cell_type": "code",
   "execution_count": 30,
   "id": "e1c3d26d",
   "metadata": {},
   "outputs": [
    {
     "name": "stdout",
     "output_type": "stream",
     "text": [
      "ABC Company\n"
     ]
    }
   ],
   "source": [
    "class Employee {\n",
    "\n",
    "    static companyName = \"ABC Company\"; // Class Variable -> shares memory across all the objects\n",
    "    constructor(name, salary, age, isManager, dateOfJoining) {\n",
    "        this.name = name;\n",
    "        this.salary = salary;\n",
    "        this.age = age;\n",
    "        this.isManager = isManager;\n",
    "        this.dateOfJoining = dateOfJoining;\n",
    "    }\n",
    "\n",
    "    setName(name) {\n",
    "        this.name = name;\n",
    "    }\n",
    "\n",
    "    getName() {\n",
    "        return this.name;\n",
    "    }\n",
    "\n",
    "    setSalary(salary) {\n",
    "        this.salary = salary;\n",
    "    }\n",
    "\n",
    "    getSalary() {\n",
    "        return this.salary;\n",
    "    }\n",
    "\n",
    "    static calculateNewSalaryAfterBonus(employeeSalary, bonusPercentage) {\n",
    "        return employeeSalary + (employeeSalary * bonusPercentage/100)\n",
    "    }\n",
    "\n",
    "}\n",
    "\n",
    "var employee = new Employee(\"John Doe\", 100000, 30, true, \"2020-01-01\");\n",
    "var employee2 = new Employee(\"John Dae\", 100000, 30, true, \"2020-01-01\");\n",
    "// console.log(employee);\n",
    "employee.setName(\"John Dae\")\n",
    "// console.log(employee);\n",
    "\n",
    "var newSalary = Employee.calculateNewSalaryAfterBonus(employee.getSalary(), 10)\n",
    "employee.setSalary(newSalary);\n",
    "\n",
    "console.log(Employee.companyName);"
   ]
  },
  {
   "cell_type": "markdown",
   "id": "00f02c01",
   "metadata": {},
   "source": [
    "## Inheritance"
   ]
  },
  {
   "cell_type": "code",
   "execution_count": 31,
   "id": "ad673bb7",
   "metadata": {},
   "outputs": [
    {
     "name": "stdout",
     "output_type": "stream",
     "text": [
      "ElectricCar {\n",
      "  color: \"White\",\n",
      "  wheelsColor: \"Black\",\n",
      "  brand: \"Audi\",\n",
      "  engine: 3000,\n",
      "  batteryBackup: \"400kms\",\n",
      "  chargingTime: \"4 hours\"\n",
      "}\n",
      "ElectricCar {\n",
      "  color: \"White\",\n",
      "  wheelsColor: \"Black\",\n",
      "  brand: \"BMW\",\n",
      "  engine: 2800,\n",
      "  batteryBackup: \"500kms\",\n",
      "  chargingTime: \"4 hours\"\n",
      "}\n"
     ]
    }
   ],
   "source": [
    "class Car {\n",
    "    static wheels = 4\n",
    "    constructor(color, wheelsColor, brand, engine) {\n",
    "        this.color = color;\n",
    "        this.wheelsColor = wheelsColor;\n",
    "        this.brand = brand;\n",
    "        this.engine = engine;\n",
    "    }\n",
    "}\n",
    "\n",
    "class PetrolCar extends Car {\n",
    "    constructor(milaege) {\n",
    "        this.milaege = milaege;\n",
    "    }\n",
    "}\n",
    "\n",
    "class ElectricCar extends Car {\n",
    "    constructor(color, wheelsColor, brand, engine, batteryBackup, chargingTime) {\n",
    "        super(color, wheelsColor, brand, engine);\n",
    "        this.batteryBackup = batteryBackup;\n",
    "        this.chargingTime = chargingTime;\n",
    "    }\n",
    "}\n",
    "\n",
    "var electricCar = new ElectricCar(\"White\", \"Black\", \"Audi\", 3000, \"400kms\", \"4 hours\");\n",
    "var electricCar2 = new ElectricCar(\"White\", \"Black\", \"BMW\", 2800, \"500kms\", \"4 hours\");\n",
    "console.log(electricCar);\n",
    "console.log(electricCar2);"
   ]
  },
  {
   "cell_type": "code",
   "execution_count": 34,
   "id": "ffdf0850",
   "metadata": {},
   "outputs": [
    {
     "name": "stdout",
     "output_type": "stream",
     "text": [
      "Hello, I am inside ElectricCar Constructor\n",
      "Hello, I am inside Car Constructor\n"
     ]
    }
   ],
   "source": [
    "class Car {\n",
    "    constructor() {\n",
    "        console.log(\"Hello, I am inside Car Constructor\");\n",
    "    }\n",
    "}\n",
    "\n",
    "class ElectricCar extends Car {\n",
    "    constructor() {\n",
    "        console.log(\"Hello, I am inside ElectricCar Constructor\");\n",
    "        super();\n",
    "    }\n",
    "}\n",
    "\n",
    "var electricCar = new ElectricCar();"
   ]
  },
  {
   "cell_type": "code",
   "execution_count": 36,
   "id": "58d6f884",
   "metadata": {},
   "outputs": [
    {
     "ename": "ReferenceError",
     "evalue": "Must call super constructor in derived class before accessing 'this' or returning from derived constructor",
     "output_type": "error",
     "traceback": [
      "Stack trace:",
      "ReferenceError: Must call super constructor in derived class before accessing 'this' or returning from derived constructor",
      "    at new ElectricCar (<anonymous>:17:5)",
      "    at <anonymous>:22:19"
     ]
    }
   ],
   "source": [
    "class Car {\n",
    "    static wheels = 4\n",
    "    constructor(color, wheelsColor, brand, engine) {\n",
    "        this.color = color;\n",
    "        this.wheelsColor = wheelsColor;\n",
    "        this.brand = brand;\n",
    "        this.engine = engine;\n",
    "    }\n",
    "}\n",
    "\n",
    "class PetrolCar extends Car {\n",
    "    constructor(milaege) {\n",
    "        this.milaege = milaege;\n",
    "    }\n",
    "}\n",
    "\n",
    "class ElectricCar extends Car {\n",
    "    constructor(color, wheelsColor, brand, engine, batteryBackup, chargingTime) {\n",
    "        this.batteryBackup = batteryBackup;\n",
    "        this.chargingTime = chargingTime;\n",
    "        super(color, wheelsColor, brand, engine);\n",
    "    }\n",
    "}\n",
    "\n",
    "var electricCar = new ElectricCar(\"White\", \"Black\", \"Audi\", 3000, \"400kms\", \"4 hours\");\n",
    "var electricCar2 = new ElectricCar(\"White\", \"Black\", \"BMW\", 2800, \"500kms\", \"4 hours\");\n",
    "console.log(electricCar);\n",
    "console.log(electricCar2);"
   ]
  },
  {
   "cell_type": "code",
   "execution_count": 38,
   "id": "c421e8a1",
   "metadata": {},
   "outputs": [
    {
     "name": "stdout",
     "output_type": "stream",
     "text": [
      "Hello, I am inside constructor\n",
      "ElectricCar {\n",
      "  color: \"White\",\n",
      "  wheelsColor: \"Black\",\n",
      "  brand: \"Audi\",\n",
      "  engine: 3000,\n",
      "  batteryBackup: \"400kms\",\n",
      "  chargingTime: \"4 hours\"\n",
      "}\n",
      "Hello, I am inside constructor\n",
      "ElectricCar {\n",
      "  color: \"White\",\n",
      "  wheelsColor: \"Black\",\n",
      "  brand: \"BMW\",\n",
      "  engine: 2800,\n",
      "  batteryBackup: \"500kms\",\n",
      "  chargingTime: \"4 hours\"\n",
      "}\n"
     ]
    }
   ],
   "source": [
    "class Car {\n",
    "    static wheels = 4\n",
    "    constructor(color, wheelsColor, brand, engine) {\n",
    "        this.color = color;\n",
    "        this.wheelsColor = wheelsColor;\n",
    "        this.brand = brand;\n",
    "        this.engine = engine;\n",
    "    }\n",
    "}\n",
    "\n",
    "class PetrolCar extends Car {\n",
    "    constructor(milaege) {\n",
    "        this.milaege = milaege;\n",
    "    }\n",
    "}\n",
    "\n",
    "class ElectricCar extends Car {\n",
    "    constructor(color, wheelsColor, brand, engine, batteryBackup, chargingTime) {\n",
    "        console.log(\"Hello, I am inside constructor\");\n",
    "        super(color, wheelsColor, brand, engine);\n",
    "        this.batteryBackup = batteryBackup;\n",
    "        this.chargingTime = chargingTime;\n",
    "    }\n",
    "}\n",
    "\n",
    "var electricCar = new ElectricCar(\"White\", \"Black\", \"Audi\", 3000, \"400kms\", \"4 hours\");\n",
    "console.log(electricCar);\n",
    "var electricCar2 = new ElectricCar(\"White\", \"Black\", \"BMW\", 2800, \"500kms\", \"4 hours\");\n",
    "console.log(electricCar2);"
   ]
  },
  {
   "cell_type": "markdown",
   "id": "82186fb6",
   "metadata": {},
   "source": [
    "## JSON - Javascript Object Notation"
   ]
  },
  {
   "cell_type": "markdown",
   "id": "c1c532a1",
   "metadata": {},
   "source": [
    "```json\n",
    "{\n",
    "    \"name\": \"John Doe\",\n",
    "    \"age\": 30,\n",
    "    \"salary\": 20000.0,\n",
    "    \"companyName\": \"Google\"\n",
    "}\n",
    "```"
   ]
  },
  {
   "cell_type": "code",
   "execution_count": null,
   "id": "f2bd4170",
   "metadata": {},
   "outputs": [
    {
     "name": "stdout",
     "output_type": "stream",
     "text": [
      "{\"address1\": \"ABES Engineering College\", \"address2\": \"NE-3 Delhi-Meerut Expressway\", \"city\": \"Ghaziabad\", \"pincode\": 1234565, \"landmark\": \"Crossing Republik\"} string\n",
      "{\n",
      "  address1: \"ABES Engineering College\",\n",
      "  address2: \"NE-3 Delhi-Meerut Expressway\",\n",
      "  city: \"Ghaziabad\",\n",
      "  pincode: 1234565,\n",
      "  landmark: \"Crossing Republik\"\n",
      "} object\n",
      "Crossing Republik\n"
     ]
    }
   ],
   "source": [
    "interface Address {\n",
    "    address1: string;\n",
    "    address2: string;\n",
    "    city: string;\n",
    "    pincode: number;\n",
    "    landmark: string;\n",
    "}\n",
    "\n",
    "var a: number = 10;\n",
    "\n",
    "var address = '{\"address1\": \"ABES Engineering College\", \"address2\": \"NE-3 Delhi-Meerut Expressway\", \"city\": \"Ghaziabad\", \"pincode\": 1234565, \"landmark\": \"Crossing Republik\"}'\n",
    "console.log(address, typeof(address));\n",
    "var objectAddress: Address = JSON.parse(address);\n",
    "console.log(objectAddress, typeof(objectAddress));\n",
    "console.log(objectAddress.landmark);"
   ]
  },
  {
   "cell_type": "code",
   "execution_count": null,
   "id": "455f424f",
   "metadata": {},
   "outputs": [],
   "source": [
    "interface Product {\n",
    "    name: string;\n",
    "    price: number;\n",
    "    quantity: number;\n",
    "    description: string;\n",
    "    discount: number;\n",
    "    rating: number;\n",
    "    images: string[];\n",
    "    category: string;\n",
    "    size: string;\n",
    "    color: string;\n",
    "    brand: string;\n",
    "}"
   ]
  }
 ],
 "metadata": {
  "kernelspec": {
   "display_name": "Deno",
   "language": "typescript",
   "name": "deno"
  },
  "language_info": {
   "codemirror_mode": "typescript",
   "file_extension": ".ts",
   "mimetype": "text/x.typescript",
   "name": "typescript",
   "nbconvert_exporter": "script",
   "pygments_lexer": "typescript",
   "version": "5.7.3"
  }
 },
 "nbformat": 4,
 "nbformat_minor": 5
}
