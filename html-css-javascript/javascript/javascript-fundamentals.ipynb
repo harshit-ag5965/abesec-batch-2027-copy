{
 "cells": [
  {
   "cell_type": "markdown",
   "metadata": {},
   "source": [
    "## Introduction to Javascript"
   ]
  },
  {
   "cell_type": "code",
   "execution_count": 1,
   "metadata": {},
   "outputs": [
    {
     "name": "stdout",
     "output_type": "stream",
     "text": [
      "Hello, World!\n"
     ]
    }
   ],
   "source": [
    "console.log(\"Hello, World!\");"
   ]
  },
  {
   "cell_type": "markdown",
   "metadata": {},
   "source": [
    "## Variables in Javascript"
   ]
  },
  {
   "cell_type": "code",
   "execution_count": 2,
   "metadata": {},
   "outputs": [
    {
     "name": "stdout",
     "output_type": "stream",
     "text": [
      "The sum of a and b is: 30\n"
     ]
    }
   ],
   "source": [
    "var a = 10;\n",
    "var b = 20;\n",
    "var c = a + b;\n",
    "console.log(\"The sum of a and b is: \" + c);"
   ]
  },
  {
   "cell_type": "code",
   "execution_count": null,
   "metadata": {},
   "outputs": [
    {
     "name": "stdout",
     "output_type": "stream",
     "text": [
      "string\n",
      "boolean\n",
      "number\n"
     ]
    }
   ],
   "source": [
    "var myName = \"John Doe\";\n",
    "console.log(typeof(myName));\n",
    "var isActive = true;\n",
    "console.log(typeof(isActive));\n",
    "var a = 10;\n",
    "console.log(typeof(a));"
   ]
  },
  {
   "cell_type": "code",
   "execution_count": null,
   "metadata": {},
   "outputs": [
    {
     "ename": "TypeError",
     "evalue": "Assignment to constant variable.",
     "output_type": "error",
     "traceback": [
      "Stack trace:",
      "TypeError: Assignment to constant variable.",
      "    at <anonymous>:6:4"
     ]
    }
   ],
   "source": [
    "var a1 = 10;\n",
    "let b1 = 20;\n",
    "const c1 = 30;\n",
    "a1 = 15; // this is allowed\n",
    "b1 = 25; // this is allowed\n",
    "c1 = 35; // this is not allowed, will throw an error\n",
    "console.log(a1);\n",
    "console.log(b1);\n",
    "console.log(c1);"
   ]
  },
  {
   "cell_type": "code",
   "execution_count": 12,
   "metadata": {},
   "outputs": [
    {
     "name": "stdout",
     "output_type": "stream",
     "text": [
      "20\n",
      "10\n"
     ]
    }
   ],
   "source": [
    "var num = 10;\n",
    "var num2 = num;\n",
    "num = 20;\n",
    "console.log(num);\n",
    "console.log(num2);"
   ]
  },
  {
   "cell_type": "markdown",
   "metadata": {},
   "source": [
    "## Quick Overview of Functions in Javascript"
   ]
  },
  {
   "cell_type": "code",
   "execution_count": 13,
   "metadata": {},
   "outputs": [
    {
     "name": "stdout",
     "output_type": "stream",
     "text": [
      "30\n"
     ]
    }
   ],
   "source": [
    "function add(a, b) {\n",
    "    return a + b;\n",
    "}\n",
    "\n",
    "console.log(add(10, 20));\n",
    "\n",
    "/**\n",
    " * Java code\n",
    " * \n",
    " * public int add(int a, int b) {\n",
    " *   return a + b;\n",
    " * }\n",
    " */\n"
   ]
  },
  {
   "cell_type": "code",
   "execution_count": 14,
   "metadata": {},
   "outputs": [
    {
     "name": "stdout",
     "output_type": "stream",
     "text": [
      "30\n"
     ]
    }
   ],
   "source": [
    "var sum = add(15, 15);\n",
    "console.log(sum);"
   ]
  },
  {
   "cell_type": "code",
   "execution_count": 15,
   "metadata": {},
   "outputs": [
    {
     "name": "stdout",
     "output_type": "stream",
     "text": [
      "My name is John Doe\n",
      "My name is Jane Doe\n"
     ]
    }
   ],
   "source": [
    "function printMyName(name) {\n",
    "    console.log(\"My name is \" + name);\n",
    "}\n",
    "\n",
    "printMyName(\"John Doe\");\n",
    "printMyName(\"Jane Doe\");"
   ]
  },
  {
   "cell_type": "code",
   "execution_count": null,
   "metadata": {},
   "outputs": [
    {
     "name": "stdout",
     "output_type": "stream",
     "text": [
      "10 is even\n",
      "15 is odd\n"
     ]
    }
   ],
   "source": [
    "function isEven(num) {\n",
    "    if (num % 2 === 0) {\n",
    "        console.log(num + \" is even\");\n",
    "    } else {\n",
    "        console.log(num + \" is odd\");\n",
    "    }\n",
    "}\n",
    "\n",
    "isEven(10);\n",
    "isEven(15);"
   ]
  },
  {
   "cell_type": "code",
   "execution_count": 18,
   "metadata": {},
   "outputs": [
    {
     "name": "stdout",
     "output_type": "stream",
     "text": [
      "Apple\n",
      "The fruit name is Apple\n"
     ]
    }
   ],
   "source": [
    "var fruitName = \"Mango\";\n",
    "\n",
    "function printFruitName() {\n",
    "    console.log(\"The fruit name is \" + fruitName);\n",
    "}\n",
    "\n",
    "fruitName = \"Apple\"; \n",
    "console.log(fruitName);\n",
    "\n",
    "printFruitName();"
   ]
  },
  {
   "cell_type": "code",
   "execution_count": null,
   "metadata": {},
   "outputs": [
    {
     "name": "stdout",
     "output_type": "stream",
     "text": [
      "10\n"
     ]
    }
   ],
   "source": [
    "function dummyFunction() {\n",
    "    if(true) {\n",
    "        var x  = 10;\n",
    "    }\n",
    "    console.log(x);\n",
    "}\n",
    "\n",
    "dummyFunction();"
   ]
  },
  {
   "cell_type": "code",
   "execution_count": null,
   "metadata": {},
   "outputs": [
    {
     "name": "stdout",
     "output_type": "stream",
     "text": [
      "10\n"
     ]
    }
   ],
   "source": [
    "function dummyFunction() {\n",
    "    let x  = 10;\n",
    "    if(true) {\n",
    "        let y = 20;\n",
    "    }\n",
    "    console.log(x);\n",
    "}\n",
    "\n",
    "dummyFunction();"
   ]
  },
  {
   "cell_type": "code",
   "execution_count": null,
   "metadata": {},
   "outputs": [
    {
     "name": "stdout",
     "output_type": "stream",
     "text": [
      "undefined\n",
      "10\n",
      "10\n",
      "10\n"
     ]
    }
   ],
   "source": [
    "function dummyFunction() {\n",
    "    if(true) {\n",
    "        console.log(x); // undefined\n",
    "        if(true) {\n",
    "            var x  = 10;\n",
    "            console.log(x); // 10\n",
    "        } \n",
    "        console.log(x); // 10\n",
    "    }\n",
    "    console.log(x); // 10\n",
    "}\n",
    "dummyFunction();"
   ]
  },
  {
   "cell_type": "code",
   "execution_count": 29,
   "metadata": {},
   "outputs": [
    {
     "name": "stdout",
     "output_type": "stream",
     "text": [
      "10\n",
      "20\n"
     ]
    }
   ],
   "source": [
    "function dummyFunction() {\n",
    "    var x = 20;\n",
    "    if(true) {\n",
    "        let x = 10;\n",
    "        console.log(x);\n",
    "    }\n",
    "    console.log(x); \n",
    "}\n",
    "dummyFunction();"
   ]
  },
  {
   "cell_type": "code",
   "execution_count": null,
   "metadata": {},
   "outputs": [
    {
     "name": "stdout",
     "output_type": "stream",
     "text": [
      "10\n",
      "10\n"
     ]
    }
   ],
   "source": [
    "function dummyFunction() {\n",
    "    var x = 20; // deferred\n",
    "    if(true) {\n",
    "        var x = 10;\n",
    "        console.log(x);\n",
    "    }\n",
    "    console.log(x); \n",
    "}\n",
    "dummyFunction();"
   ]
  },
  {
   "cell_type": "code",
   "execution_count": 33,
   "metadata": {},
   "outputs": [
    {
     "name": "stdout",
     "output_type": "stream",
     "text": [
      "20\n",
      "10\n",
      "10\n"
     ]
    }
   ],
   "source": [
    "function dummyFunction() {\n",
    "    var x = 20; // deferred\n",
    "    console.log(x); \n",
    "    if(true) {\n",
    "        var x = 10;\n",
    "        console.log(x);\n",
    "    }\n",
    "    console.log(x);\n",
    "}\n",
    "dummyFunction();"
   ]
  },
  {
   "cell_type": "code",
   "execution_count": 34,
   "metadata": {},
   "outputs": [
    {
     "name": "stdout",
     "output_type": "stream",
     "text": [
      "20\n",
      "10\n",
      "20\n"
     ]
    }
   ],
   "source": [
    "function dummyFunction() {\n",
    "    var x = 20; // deferred\n",
    "    console.log(x); \n",
    "    if(true) {\n",
    "        let x = 10;\n",
    "        console.log(x);\n",
    "    }\n",
    "    console.log(x);\n",
    "}\n",
    "dummyFunction();"
   ]
  },
  {
   "cell_type": "code",
   "execution_count": 35,
   "metadata": {},
   "outputs": [
    {
     "name": "stdout",
     "output_type": "stream",
     "text": [
      "20\n",
      "20\n",
      "20\n"
     ]
    }
   ],
   "source": [
    "function dummyFunction() {\n",
    "    const x = 20; \n",
    "    console.log(x); \n",
    "    if(true) {\n",
    "        console.log(x);\n",
    "    }\n",
    "    console.log(x);\n",
    "}\n",
    "dummyFunction();"
   ]
  },
  {
   "cell_type": "code",
   "execution_count": null,
   "metadata": {},
   "outputs": [
    {
     "name": "stdout",
     "output_type": "stream",
     "text": [
      "20\n",
      "10\n",
      "20\n"
     ]
    }
   ],
   "source": [
    "function dummyFunction() {\n",
    "    const x = 20; \n",
    "    console.log(x); \n",
    "    if(true) {\n",
    "        let x = 10;\n",
    "        console.log(x);\n",
    "    }\n",
    "    console.log(x);\n",
    "}\n",
    "dummyFunction();"
   ]
  },
  {
   "cell_type": "code",
   "execution_count": 38,
   "metadata": {},
   "outputs": [
    {
     "ename": "SyntaxError",
     "evalue": "Identifier 'x' has already been declared",
     "output_type": "error",
     "traceback": [
      "Stack trace:",
      "SyntaxError: Identifier 'x' has already been declared"
     ]
    }
   ],
   "source": [
    "function dummyFunction() {\n",
    "    const x = 20; \n",
    "    console.log(x); \n",
    "    if(true) {\n",
    "        var x = 10;\n",
    "        console.log(x);\n",
    "    }\n",
    "    console.log(x);\n",
    "}\n",
    "dummyFunction();"
   ]
  },
  {
   "cell_type": "code",
   "execution_count": null,
   "metadata": {},
   "outputs": [],
   "source": [
    "function add(a: number, b: number): number {\n",
    "    return a + b;   \n",
    "}"
   ]
  },
  {
   "cell_type": "code",
   "execution_count": null,
   "metadata": {},
   "outputs": [
    {
     "name": "stdout",
     "output_type": "stream",
     "text": [
      "1001\n"
     ]
    }
   ],
   "source": [
    "var a = 1000;\n",
    "a++;\n",
    "console.log(a);"
   ]
  },
  {
   "cell_type": "code",
   "execution_count": 41,
   "metadata": {},
   "outputs": [
    {
     "name": "stdout",
     "output_type": "stream",
     "text": [
      "number\n",
      "object\n",
      "string\n",
      "object\n"
     ]
    }
   ],
   "source": [
    "// In Java\n",
    "// int a = 10; // primitive data type\n",
    "// Integer a = new Integer(10); // creating a object using wrapper class\n",
    "\n",
    "// In JavaScript\n",
    "var a = 10; // primitive data type\n",
    "var b = new Number(10); // creating a object using wrapper class\n",
    "\n",
    "var myCollegeName = \"ABES Engineering College\";\n",
    "var myCompanyName = new String(\"Atlassian\");\n",
    "\n",
    "console.log(typeof(a));\n",
    "console.log(typeof(b));\n",
    "console.log(typeof(myCollegeName));\n",
    "console.log(typeof(myCompanyName));\n"
   ]
  },
  {
   "cell_type": "code",
   "execution_count": null,
   "metadata": {},
   "outputs": [],
   "source": [
    "type Org = {\n",
    "    name: string;\n",
    "    code: string;\n",
    "    isActive: boolean;\n",
    "}\n",
    "\n",
    "function findOrganisationsWithSomething(): Org[] {\n",
    "    jhfjlhahslfhlashjghvk\n",
    "    sfgdafsgda\n",
    "    agbdfshbsgdf\n",
    "    dsfghdfshbsd\n",
    "    dshsdgfhsdhs\n",
    "\n",
    "    res = axios.put(\"https://jsonplaceholder.typicode.com/posts/1\"); // list of organisations\n",
    "    resizeBy[Symbol]...arguments.length.toFixed[Symbol]...arguments\n",
    "    awdfa\n",
    "    getComputedStyleg\n",
    "    removeEventListener\n",
    "\n",
    "\n",
    "\n",
    "    return finalResponse;\n",
    "}"
   ]
  },
  {
   "cell_type": "code",
   "execution_count": null,
   "metadata": {},
   "outputs": [],
   "source": [
    "function myCode() {\n",
    "\n",
    "    // some code\n",
    "    // some code\n",
    "    // some code\n",
    "    // some code\n",
    "    // some code\n",
    "    // some code\n",
    "    // some code\n",
    "\n",
    "    \n",
    "    var res: Org[] = findOrganisationsWithSomething(orgIds);\n",
    "    // some code\n",
    "    // some code    \n",
    "\n",
    "\n",
    "\n",
    "}"
   ]
  },
  {
   "cell_type": "code",
   "execution_count": 43,
   "metadata": {},
   "outputs": [
    {
     "name": "stdout",
     "output_type": "stream",
     "text": [
      "object\n"
     ]
    }
   ],
   "source": [
    "var somevar = {};\n",
    "console.log(typeof(somevar));"
   ]
  },
  {
   "cell_type": "code",
   "execution_count": 47,
   "metadata": {},
   "outputs": [
    {
     "name": "stdout",
     "output_type": "stream",
     "text": [
      "{ name: \"Aakash Verma\", age: 26, isActive: true }\n",
      "Aakash Verma\n",
      "Aakash Verma\n"
     ]
    }
   ],
   "source": [
    "var person = {name: \"Aakash Verma\", age: 26, isActive: true};\n",
    "console.log(person);\n",
    "console.log(person.name);\n",
    "console.log(person[\"name\"]);"
   ]
  },
  {
   "cell_type": "code",
   "execution_count": 50,
   "metadata": {},
   "outputs": [
    {
     "name": "stdout",
     "output_type": "stream",
     "text": [
      "Aakash Verma\n",
      "26\n",
      "true\n",
      "{ city: \"Modinagar\", state: \"UP\" }\n",
      "Modinagar\n",
      "UP\n",
      "Modinagar\n"
     ]
    }
   ],
   "source": [
    "var person = {name: \"Aakash Verma\", age: 26, isActive: true, address: {city: \"Modinagar\", state: \"UP\"}};\n",
    "console.log(person.name);\n",
    "console.log(person.age);\n",
    "console.log(person.isActive);\n",
    "console.log(person.address);\n",
    "console.log(person.address.city);\n",
    "console.log(person.address.state);\n",
    "console.log(person[\"address\"][\"city\"]);"
   ]
  },
  {
   "cell_type": "code",
   "execution_count": 51,
   "metadata": {},
   "outputs": [
    {
     "name": "stdout",
     "output_type": "stream",
     "text": [
      "80\n",
      "90\n",
      "85\n"
     ]
    }
   ],
   "source": [
    "var student = {\n",
    "    name: \"Aakash Verma\",\n",
    "    age: 26,\n",
    "    isActive: true,\n",
    "    address: {\n",
    "        city: \"Modinagar\",\n",
    "        state: \"UP\"\n",
    "    },\n",
    "    subjects: [\"Math\", \"Science\", \"English\"],\n",
    "    semesterWiseMarks: {\n",
    "        semester1: [80, 90, 85],\n",
    "        semester2: [70, 75, 80]\n",
    "    }\n",
    "};\n",
    "\n",
    "console.log(student.semesterWiseMarks.semester1[0]);\n",
    "console.log(student.semesterWiseMarks.semester1[1]);\n",
    "console.log(student.semesterWiseMarks.semester1[2]);"
   ]
  },
  {
   "cell_type": "markdown",
   "metadata": {},
   "source": [
    "## Array, For Loop, Functions --> Arrow functions --> forEach, filter, map, and reduce, OOPs"
   ]
  },
  {
   "cell_type": "code",
   "execution_count": 2,
   "metadata": {},
   "outputs": [
    {
     "name": "stdout",
     "output_type": "stream",
     "text": [
      "1\n",
      "2\n",
      "3\n",
      "4\n",
      "5\n"
     ]
    }
   ],
   "source": [
    "let arr = [1, 2, 3, 4, 5]\n",
    "for(let i = 0; i < arr.length; i++) {\n",
    "    console.log(arr[i]);\n",
    "}"
   ]
  },
  {
   "cell_type": "code",
   "execution_count": 5,
   "metadata": {},
   "outputs": [
    {
     "name": "stdout",
     "output_type": "stream",
     "text": [
      "A\n",
      "B\n",
      "C\n",
      "D\n",
      "E\n",
      "object\n"
     ]
    }
   ],
   "source": [
    "let arr = [\"A\", \"B\", \"C\", \"D\", \"E\"]\n",
    "for(let i = 0; i < arr.length; i++) {\n",
    "    console.log(arr[i]);\n",
    "}\n",
    "console.log(typeof(arr))"
   ]
  },
  {
   "cell_type": "code",
   "execution_count": 9,
   "metadata": {},
   "outputs": [
    {
     "name": "stdout",
     "output_type": "stream",
     "text": [
      "1\n",
      "2\n",
      "3\n",
      "4\n",
      "5\n",
      "object\n"
     ]
    }
   ],
   "source": [
    "let arr = new Array(1, 2, 3, 4, 5)\n",
    "for(let i = 0; i < arr.length; i++) {\n",
    "    console.log(arr[i]);\n",
    "}\n",
    "console.log(typeof(arr))"
   ]
  },
  {
   "cell_type": "code",
   "execution_count": null,
   "metadata": {},
   "outputs": [
    {
     "name": "stdout",
     "output_type": "stream",
     "text": [
      "A\n",
      "B\n",
      "C\n",
      "D\n",
      "E\n"
     ]
    }
   ],
   "source": [
    "arr = [\"A\", \"B\", \"C\", \"D\", \"E\"]\n",
    "arr.forEach(alphabet => console.log(alphabet));"
   ]
  },
  {
   "cell_type": "code",
   "execution_count": 14,
   "metadata": {},
   "outputs": [
    {
     "name": "stdout",
     "output_type": "stream",
     "text": [
      "30\n"
     ]
    }
   ],
   "source": [
    "function add(a, b) {\n",
    "    return a + b;\n",
    "}\n",
    "\n",
    "var sumOfTwo = add(10, 20);\n",
    "console.log(sumOfTwo);"
   ]
  },
  {
   "cell_type": "code",
   "execution_count": 16,
   "metadata": {},
   "outputs": [
    {
     "name": "stdout",
     "output_type": "stream",
     "text": [
      "60\n"
     ]
    }
   ],
   "source": [
    "function add(a, b, c) {\n",
    "    return a + b + c;\n",
    "}\n",
    "\n",
    "var sumOfThree = add(10, 20, 30);\n",
    "console.log(sumOfThree);"
   ]
  },
  {
   "cell_type": "markdown",
   "metadata": {},
   "source": [
    "#### 1. WAP to print first 10 prime numbers.\n",
    "#### 2. WAP to check if a given number is armstrong or not.\n",
    "#### 3. WAP to find the greatest number out of 3 elements. Elements can be equal so handle edge cases."
   ]
  },
  {
   "cell_type": "markdown",
   "metadata": {},
   "source": [
    "## Arrow Functions"
   ]
  },
  {
   "cell_type": "code",
   "execution_count": 17,
   "metadata": {},
   "outputs": [
    {
     "name": "stdout",
     "output_type": "stream",
     "text": [
      "Hello\n"
     ]
    }
   ],
   "source": [
    "function printHello() {\n",
    "    console.log(\"Hello\");\n",
    "}\n",
    "\n",
    "printHello();"
   ]
  },
  {
   "cell_type": "code",
   "execution_count": null,
   "metadata": {},
   "outputs": [
    {
     "name": "stdout",
     "output_type": "stream",
     "text": [
      "Hello\n"
     ]
    }
   ],
   "source": [
    "var someFunc = function printHello() {\n",
    "    console.log(\"Hello\");\n",
    "}\n",
    "\n",
    "// assume someFunc to be like shown below\n",
    "// function someFunc() {\n",
    "//     console.log(\"Hello\");\n",
    "// }\n",
    "\n",
    "someFunc();"
   ]
  },
  {
   "cell_type": "code",
   "execution_count": null,
   "metadata": {},
   "outputs": [
    {
     "name": "stdout",
     "output_type": "stream",
     "text": [
      "3\n"
     ]
    }
   ],
   "source": [
    "var someFunc = function add(a, b) {\n",
    "    return a + b;\n",
    "}\n",
    "\n",
    "console.log(someFunc(1, 2));"
   ]
  },
  {
   "cell_type": "code",
   "execution_count": 26,
   "metadata": {},
   "outputs": [
    {
     "name": "stdout",
     "output_type": "stream",
     "text": [
      "Hello\n"
     ]
    }
   ],
   "source": [
    "var someFunc = () => {\n",
    "    console.log(\"Hello\");\n",
    "}\n",
    "\n",
    "someFunc();"
   ]
  },
  {
   "cell_type": "code",
   "execution_count": 36,
   "metadata": {},
   "outputs": [
    {
     "name": "stdout",
     "output_type": "stream",
     "text": [
      "function\n",
      "7\n"
     ]
    }
   ],
   "source": [
    "var someFunc4 = (a, b) => {\n",
    "    return a + b;\n",
    "}\n",
    "\n",
    "console.log(typeof(someFunc4))\n",
    "\n",
    "console.log(someFunc4(3, 4));"
   ]
  },
  {
   "cell_type": "code",
   "execution_count": 39,
   "metadata": {},
   "outputs": [
    {
     "name": "stdout",
     "output_type": "stream",
     "text": [
      "9\n"
     ]
    }
   ],
   "source": [
    "var someFunc4 = (a, b) => a + b;\n",
    "\n",
    "console.log(someFunc4(3, 6));"
   ]
  },
  {
   "cell_type": "code",
   "execution_count": 41,
   "metadata": {},
   "outputs": [
    {
     "name": "stdout",
     "output_type": "stream",
     "text": [
      "9\n"
     ]
    }
   ],
   "source": [
    "var someFunc4 = (a, b) => console.log(a + b);\n",
    "\n",
    "someFunc4(3, 6);"
   ]
  },
  {
   "cell_type": "code",
   "execution_count": 42,
   "metadata": {},
   "outputs": [
    {
     "name": "stdout",
     "output_type": "stream",
     "text": [
      "Returing sum of two numbers\n",
      "15\n"
     ]
    }
   ],
   "source": [
    "var someFunc4 = (a, b) => {\n",
    "    console.log(\"Returing sum of two numbers\");\n",
    "    return a + b;\n",
    "}\n",
    "\n",
    "console.log(someFunc4(7, 8));\n"
   ]
  },
  {
   "cell_type": "code",
   "execution_count": 44,
   "metadata": {},
   "outputs": [
    {
     "name": "stdout",
     "output_type": "stream",
     "text": [
      "My name is Aakash Verma\n"
     ]
    }
   ],
   "source": [
    "var func = function printsName(name) {\n",
    "    console.log(\"My name is \" + name);\n",
    "}\n",
    "\n",
    "func(\"Aakash Verma\");"
   ]
  },
  {
   "cell_type": "code",
   "execution_count": 45,
   "metadata": {},
   "outputs": [
    {
     "name": "stdout",
     "output_type": "stream",
     "text": [
      "My name is Aakash Verma\n"
     ]
    }
   ],
   "source": [
    "var func = (name) => {\n",
    "    console.log(\"My name is \" + name);\n",
    "}\n",
    "\n",
    "func(\"Aakash Verma\");"
   ]
  },
  {
   "cell_type": "code",
   "execution_count": 47,
   "metadata": {},
   "outputs": [
    {
     "name": "stdout",
     "output_type": "stream",
     "text": [
      "My name is Aakash Verma\n"
     ]
    }
   ],
   "source": [
    "var func = (name) => console.log(\"My name is \" + name);\n",
    "\n",
    "func(\"Aakash Verma\");"
   ]
  },
  {
   "cell_type": "code",
   "execution_count": 49,
   "metadata": {},
   "outputs": [
    {
     "name": "stdout",
     "output_type": "stream",
     "text": [
      "My name is Aakash Verma\n"
     ]
    }
   ],
   "source": [
    "var func = name => console.log(\"My name is \" + name);\n",
    "\n",
    "func(\"Aakash Verma\");"
   ]
  },
  {
   "cell_type": "code",
   "execution_count": 50,
   "metadata": {},
   "outputs": [
    {
     "name": "stdout",
     "output_type": "stream",
     "text": [
      "My name is Aakash Verma\n",
      "My name is Aakash Verma\n"
     ]
    }
   ],
   "source": [
    "var func = name => {\n",
    "    console.log(\"My name is \" + name);\n",
    "    console.log(\"My name is \" + name);\n",
    "}\n",
    "\n",
    "func(\"Aakash Verma\");"
   ]
  },
  {
   "cell_type": "markdown",
   "metadata": {},
   "source": [
    "## Function as an Arguement"
   ]
  },
  {
   "cell_type": "code",
   "execution_count": null,
   "metadata": {},
   "outputs": [
    {
     "name": "stdout",
     "output_type": "stream",
     "text": [
      "500000\n"
     ]
    }
   ],
   "source": [
    "function salarySum(a, b) {\n",
    "    console.log(a + b);\n",
    "}\n",
    "\n",
    "salarySum(200000, 300000);"
   ]
  },
  {
   "cell_type": "code",
   "execution_count": 55,
   "metadata": {},
   "outputs": [
    {
     "name": "stdout",
     "output_type": "stream",
     "text": [
      "Aakash Verma\n",
      "Shivam Maurya\n",
      "500000\n"
     ]
    }
   ],
   "source": [
    "function utilityFunction(employee1, employee2, func) {\n",
    "    console.log(employee1.name);\n",
    "    console.log(employee2.name);\n",
    "    func(employee1.salary, employee2.salary);\n",
    "}\n",
    "\n",
    "var employee1 = {name: \"Aakash Verma\", salary: 200000}\n",
    "var employee2 = {name: \"Shivam Maurya\", salary: 300000}\n",
    "var salarySumOfTwoEmployee = function salarySum(a, b) {\n",
    "    console.log(a + b);\n",
    "};\n",
    "utilityFunction(employee1, employee2, salarySumOfTwoEmployee);"
   ]
  },
  {
   "cell_type": "code",
   "execution_count": 56,
   "metadata": {},
   "outputs": [
    {
     "name": "stdout",
     "output_type": "stream",
     "text": [
      "Aakash Verma\n",
      "Shivam Maurya\n",
      "500000\n"
     ]
    }
   ],
   "source": [
    "function utilityFunction(employee1, employee2, func) {\n",
    "    console.log(employee1.name);\n",
    "    console.log(employee2.name);\n",
    "    func(employee1.salary, employee2.salary);\n",
    "}\n",
    "\n",
    "var employee1 = {name: \"Aakash Verma\", salary: 200000}\n",
    "var employee2 = {name: \"Shivam Maurya\", salary: 300000}\n",
    "utilityFunction(employee1, employee2, function salarySum(a, b) {\n",
    "    console.log(a + b);\n",
    "});"
   ]
  },
  {
   "cell_type": "code",
   "execution_count": 58,
   "metadata": {},
   "outputs": [
    {
     "name": "stdout",
     "output_type": "stream",
     "text": [
      "Aakash Verma\n",
      "Shivam Maurya\n",
      "500000\n"
     ]
    }
   ],
   "source": [
    "function salarySum1(a, b) {\n",
    "    console.log(a + b);\n",
    "}\n",
    "\n",
    "function utilityFunction(employee1, employee2, func) {\n",
    "    console.log(employee1.name);\n",
    "    console.log(employee2.name);\n",
    "    func(employee1.salary, employee2.salary);\n",
    "}\n",
    "\n",
    "var employee1 = {name: \"Aakash Verma\", salary: 200000}\n",
    "var employee2 = {name: \"Shivam Maurya\", salary: 300000}\n",
    "utilityFunction(employee1, employee2, salarySum1);"
   ]
  },
  {
   "cell_type": "code",
   "execution_count": 60,
   "metadata": {},
   "outputs": [
    {
     "name": "stdout",
     "output_type": "stream",
     "text": [
      "Aakash Verma\n",
      "Shivam Maurya\n",
      "500000\n"
     ]
    }
   ],
   "source": [
    "function utilityFunction(employee1, employee2, func) {\n",
    "    console.log(employee1.name);\n",
    "    console.log(employee2.name);\n",
    "    func(employee1.salary, employee2.salary);\n",
    "}\n",
    "\n",
    "var employee1 = {name: \"Aakash Verma\", salary: 200000}\n",
    "var employee2 = {name: \"Shivam Maurya\", salary: 300000}\n",
    "utilityFunction(employee1, employee2, (a, b) => {\n",
    "    console.log(a + b);\n",
    "});"
   ]
  },
  {
   "cell_type": "code",
   "execution_count": null,
   "metadata": {},
   "outputs": [
    {
     "name": "stdout",
     "output_type": "stream",
     "text": [
      "Aakash Verma\n",
      "Shivam Maurya\n",
      "500000\n"
     ]
    }
   ],
   "source": [
    "function utilityFunction(employee1, employee2, func) {\n",
    "    console.log(employee1.name);\n",
    "    console.log(employee2.name);\n",
    "    func(employee1.salary, employee2.salary);\n",
    "}\n",
    "\n",
    "var employee1 = {name: \"Aakash Verma\", salary: 200000}\n",
    "var employee2 = {name: \"Shivam Maurya\", salary: 300000}\n",
    "var someDummyFunc = (a, b) => console.log(a + b);\n",
    "utilityFunction(employee1, employee2, someDummyFunc);"
   ]
  },
  {
   "cell_type": "code",
   "execution_count": null,
   "metadata": {},
   "outputs": [
    {
     "name": "stdout",
     "output_type": "stream",
     "text": [
      "Aakash Verma\n",
      "Shivam Maurya\n",
      "500000\n"
     ]
    }
   ],
   "source": [
    "function utilityFunction(employee1, employee2, func) {\n",
    "    console.log(employee1.name);\n",
    "    console.log(employee2.name);\n",
    "    func(employee1.salary, employee2.salary);\n",
    "}\n",
    "\n",
    "var employee1 = {name: \"Aakash Verma\", salary: 200000}\n",
    "var employee2 = {name: \"Shivam Maurya\", salary: 300000}\n",
    "utilityFunction(employee1, employee2, (a, b) => console.log(a + b));"
   ]
  },
  {
   "cell_type": "code",
   "execution_count": null,
   "metadata": {},
   "outputs": [
    {
     "name": "stdout",
     "output_type": "stream",
     "text": [
      "1\n",
      "2\n",
      "3\n",
      "4\n",
      "5\n"
     ]
    }
   ],
   "source": [
    "arr = [1, 2, 3, 4, 5]\n",
    "arr.forEach(num => console.log(num));"
   ]
  },
  {
   "cell_type": "code",
   "execution_count": 65,
   "metadata": {},
   "outputs": [
    {
     "name": "stdout",
     "output_type": "stream",
     "text": [
      "10 0\n",
      "21 1\n",
      "13 2\n",
      "49 3\n",
      "56 4\n"
     ]
    }
   ],
   "source": [
    "arr = [10, 21, 13, 49, 56]\n",
    "arr.forEach((num, ind) => console.log(num, ind));"
   ]
  },
  {
   "cell_type": "code",
   "execution_count": null,
   "metadata": {},
   "outputs": [
    {
     "name": "stdout",
     "output_type": "stream",
     "text": [
      "10 0 [ 10, 21, 13, 49, 56 ]\n",
      "21 1 [ 10, 21, 13, 49, 56 ]\n",
      "13 2 [ 10, 21, 13, 49, 56 ]\n",
      "49 3 [ 10, 21, 13, 49, 56 ]\n",
      "56 4 [ 10, 21, 13, 49, 56 ]\n"
     ]
    }
   ],
   "source": [
    "arr = [10, 21, 13, 49, 56]\n",
    "arr.forEach((num, ind, a) => console.log(num, ind, a));"
   ]
  },
  {
   "cell_type": "code",
   "execution_count": 67,
   "metadata": {},
   "outputs": [
    {
     "name": "stdout",
     "output_type": "stream",
     "text": [
      "10 0 [ 10, 21, 13, 49, 56 ]\n",
      "21 1 [ 10, 21, 13, 49, 56 ]\n",
      "13 2 [ 10, 21, 13, 49, 56 ]\n",
      "49 3 [ 10, 21, 13, 49, 56 ]\n",
      "56 4 [ 10, 21, 13, 49, 56 ]\n"
     ]
    }
   ],
   "source": [
    "function myFunc(p1, p2, p3) {\n",
    "    console.log(p1, p2, p3);\n",
    "}\n",
    "\n",
    "arr = [10, 21, 13, 49, 56]\n",
    "arr.forEach(myFunc);"
   ]
  },
  {
   "cell_type": "code",
   "execution_count": null,
   "metadata": {},
   "outputs": [
    {
     "name": "stdout",
     "output_type": "stream",
     "text": [
      "10 0 [ 10, 21, 13, 49, 56 ]\n",
      "21 1 [ 10, 21, 13, 49, 56 ]\n",
      "13 2 [ 10, 21, 13, 49, 56 ]\n",
      "49 3 [ 10, 21, 13, 49, 56 ]\n",
      "56 4 [ 10, 21, 13, 49, 56 ]\n"
     ]
    }
   ],
   "source": [
    "var someFc = function myFunc(p1, p2, p3) {\n",
    "    console.log(p1, p2, p3);\n",
    "}\n",
    "\n",
    "arr = [10, 21, 13, 49, 56]\n",
    "arr.forEach(someFc);"
   ]
  },
  {
   "cell_type": "code",
   "execution_count": 69,
   "metadata": {},
   "outputs": [
    {
     "name": "stdout",
     "output_type": "stream",
     "text": [
      "10 0 [ 10, 21, 13, 49, 56 ]\n",
      "21 1 [ 10, 21, 13, 49, 56 ]\n",
      "13 2 [ 10, 21, 13, 49, 56 ]\n",
      "49 3 [ 10, 21, 13, 49, 56 ]\n",
      "56 4 [ 10, 21, 13, 49, 56 ]\n"
     ]
    }
   ],
   "source": [
    "var someFc = (p1, p2, p3) => {\n",
    "    console.log(p1, p2, p3);\n",
    "}\n",
    "\n",
    "arr = [10, 21, 13, 49, 56]\n",
    "arr.forEach(someFc);"
   ]
  },
  {
   "cell_type": "code",
   "execution_count": 70,
   "metadata": {},
   "outputs": [
    {
     "name": "stdout",
     "output_type": "stream",
     "text": [
      "10 0 [ 10, 21, 13, 49, 56 ]\n",
      "21 1 [ 10, 21, 13, 49, 56 ]\n",
      "13 2 [ 10, 21, 13, 49, 56 ]\n",
      "49 3 [ 10, 21, 13, 49, 56 ]\n",
      "56 4 [ 10, 21, 13, 49, 56 ]\n"
     ]
    }
   ],
   "source": [
    "var someFc = (p1, p2, p3) => console.log(p1, p2, p3);\n",
    "\n",
    "arr = [10, 21, 13, 49, 56]\n",
    "arr.forEach(someFc);"
   ]
  },
  {
   "cell_type": "code",
   "execution_count": 72,
   "metadata": {},
   "outputs": [
    {
     "name": "stdout",
     "output_type": "stream",
     "text": [
      "10 0 [ 10, 21, 13, 49, 56 ]\n",
      "21 1 [ 10, 21, 13, 49, 56 ]\n",
      "13 2 [ 10, 21, 13, 49, 56 ]\n",
      "49 3 [ 10, 21, 13, 49, 56 ]\n",
      "56 4 [ 10, 21, 13, 49, 56 ]\n"
     ]
    }
   ],
   "source": [
    "arr = [10, 21, 13, 49, 56]\n",
    "arr.forEach((p1, p2, p3) => console.log(p1, p2, p3));"
   ]
  },
  {
   "cell_type": "code",
   "execution_count": 76,
   "metadata": {},
   "outputs": [
    {
     "name": "stdout",
     "output_type": "stream",
     "text": [
      "200000\n",
      "300000\n",
      "400000\n"
     ]
    }
   ],
   "source": [
    "var employee1 = {name: \"Aakash Verma\", salary: 200000}\n",
    "var employee2 = {name: \"Shivam Maurya\", salary: 300000}\n",
    "var employee3 = {name: \"Rohit Kumar\", salary: 400000}\n",
    "var employees = [employee1, employee2, employee3]\n",
    "employees.forEach(employee => console.log(employee.salary));"
   ]
  },
  {
   "cell_type": "code",
   "execution_count": 78,
   "metadata": {},
   "outputs": [
    {
     "name": "stdout",
     "output_type": "stream",
     "text": [
      "200000\n",
      "300000\n",
      "400000\n"
     ]
    }
   ],
   "source": [
    "function printEmployeeSalary(employee) {\n",
    "    console.log(employee.salary);\n",
    "}\n",
    "\n",
    "var employee1 = {name: \"Aakash Verma\", salary: 200000}\n",
    "var employee2 = {name: \"Shivam Maurya\", salary: 300000}\n",
    "var employee3 = {name: \"Rohit Kumar\", salary: 400000}\n",
    "var employees = [employee1, employee2, employee3]\n",
    "employees.forEach(function printEmployeeSalary(employee) {\n",
    "    console.log(employee.salary);\n",
    "});"
   ]
  },
  {
   "cell_type": "code",
   "execution_count": null,
   "metadata": {},
   "outputs": [
    {
     "name": "stdout",
     "output_type": "stream",
     "text": [
      "[ 2, 56, 78, 90 ]\n"
     ]
    }
   ],
   "source": [
    "var arr2 = [2, 56, 123, 78, 45, 67, 23, 90]\n",
    "\n",
    "const predicate = function filterEven(num) {\n",
    "    return num % 2 == 0;\n",
    "}\n",
    "\n",
    "var newArr = arr2.filter(predicate)\n",
    "console.log(newArr);"
   ]
  },
  {
   "cell_type": "code",
   "execution_count": 83,
   "metadata": {},
   "outputs": [
    {
     "name": "stdout",
     "output_type": "stream",
     "text": [
      "[ 2, 56, 78, 90 ]\n"
     ]
    }
   ],
   "source": [
    "var arr2 = [2, 56, 123, 78, 45, 67, 23, 90]\n",
    "\n",
    "const predicate = (num) => num % 2 == 0\n",
    "\n",
    "var newArr = arr2.filter(predicate)\n",
    "console.log(newArr);"
   ]
  },
  {
   "cell_type": "code",
   "execution_count": 85,
   "metadata": {},
   "outputs": [
    {
     "name": "stdout",
     "output_type": "stream",
     "text": [
      "[ 2, 56, 78, 90 ]\n"
     ]
    }
   ],
   "source": [
    "var arr2 = [2, 56, 123, 78, 45, 67, 23, 90]\n",
    "\n",
    "var newArr = arr2.filter(num => num % 2 == 0)\n",
    "console.log(newArr);"
   ]
  },
  {
   "cell_type": "code",
   "execution_count": 86,
   "metadata": {},
   "outputs": [
    {
     "name": "stdout",
     "output_type": "stream",
     "text": [
      "2\n",
      "56\n",
      "78\n",
      "90\n"
     ]
    }
   ],
   "source": [
    "var arr2 = [2, 56, 123, 78, 45, 67, 23, 90]\n",
    "\n",
    "arr2.filter(num => num % 2 == 0).forEach(num => console.log(num));"
   ]
  },
  {
   "cell_type": "markdown",
   "metadata": {},
   "source": [
    "## Map and Reduce"
   ]
  },
  {
   "cell_type": "code",
   "execution_count": 88,
   "metadata": {},
   "outputs": [
    {
     "name": "stdout",
     "output_type": "stream",
     "text": [
      "[\n",
      "   4, 112, 246, 156,\n",
      "  90, 134,  46, 180\n",
      "]\n"
     ]
    }
   ],
   "source": [
    "var arr2 = [2, 56, 123, 78, 45, 67, 23, 90]\n",
    "var newArr = arr2.map(num => num * 2)\n",
    "console.log(newArr)"
   ]
  },
  {
   "cell_type": "code",
   "execution_count": null,
   "metadata": {},
   "outputs": [
    {
     "name": "stdout",
     "output_type": "stream",
     "text": [
      "4\n",
      "112\n",
      "246\n",
      "156\n",
      "90\n",
      "134\n",
      "46\n",
      "180\n"
     ]
    }
   ],
   "source": [
    "var arr2 = [2, 56, 123, 78, 45, 67, 23, 90]\n",
    "arr2.map(num => num * 2).forEach(num => console.log(num))"
   ]
  },
  {
   "cell_type": "code",
   "execution_count": 90,
   "metadata": {},
   "outputs": [
    {
     "name": "stdout",
     "output_type": "stream",
     "text": [
      "1\n",
      "55\n",
      "77\n",
      "89\n"
     ]
    }
   ],
   "source": [
    "var arr2 = [2, 56, 123, 78, 45, 67, 23, 90]\n",
    "arr2.filter(num => num % 2 == 0).map(num => num - 1).forEach(num => console.log(num));"
   ]
  },
  {
   "cell_type": "code",
   "execution_count": 94,
   "metadata": {},
   "outputs": [
    {
     "name": "stdout",
     "output_type": "stream",
     "text": [
      "1 55\n",
      "56 77\n",
      "133 89\n",
      "222\n"
     ]
    }
   ],
   "source": [
    "var arr2 = [2, 56, 123, 78, 45, 67, 23, 90]\n",
    "var finalSum = arr2.filter(num => num % 2 == 0).map(num => num - 1).reduce((prev, curr) => {\n",
    "    console.log(prev, curr);\n",
    "    return prev + curr;\n",
    "})\n",
    "console.log(finalSum);"
   ]
  },
  {
   "cell_type": "code",
   "execution_count": 96,
   "metadata": {},
   "outputs": [
    {
     "name": "stdout",
     "output_type": "stream",
     "text": [
      "222\n"
     ]
    }
   ],
   "source": [
    "var arr2 = [2, 56, 123, 78, 45, 67, 23, 90]\n",
    "var finalSum = arr2.filter(num => num % 2 == 0).map(num => num - 1).reduce((prev, curr) => prev + curr)\n",
    "console.log(finalSum);"
   ]
  },
  {
   "cell_type": "code",
   "execution_count": null,
   "metadata": {},
   "outputs": [],
   "source": [
    "var employees = [{name: \"Aakash Verma\", salary: 200000}, {name: \"Shivam Maurya\", salary: 300000}, {name: \"Rohit Kumar\", salary: 400000}]\n",
    "employees.filter(employee => employee.salary > 300000)"
   ]
  }
 ],
 "metadata": {
  "kernelspec": {
   "display_name": "Deno",
   "language": "typescript",
   "name": "deno"
  },
  "language_info": {
   "codemirror_mode": "typescript",
   "file_extension": ".ts",
   "mimetype": "text/x.typescript",
   "name": "typescript",
   "nbconvert_exporter": "script",
   "pygments_lexer": "typescript",
   "version": "5.7.3"
  }
 },
 "nbformat": 4,
 "nbformat_minor": 2
}
